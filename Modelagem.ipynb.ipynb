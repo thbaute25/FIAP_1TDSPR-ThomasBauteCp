{
 "cells": [
  {
   "cell_type": "markdown",
   "id": "bbaf306b",
   "metadata": {},
   "source": [
    "# 🚢 CheckPointIA – Preditor de Sobrevivência no Titanic\n",
    "\n",
    "Este notebook treina três modelos de classificação para prever a sobrevivência de passageiros no Titanic com base em dados históricos."
   ]
  },
  {
   "cell_type": "code",
   "execution_count": null,
   "id": "bd0b528b",
   "metadata": {},
   "outputs": [],
   "source": [
    "import pandas as pd\n",
    "from sklearn.model_selection import train_test_split\n",
    "from sklearn.preprocessing import LabelEncoder\n",
    "from sklearn.linear_model import LogisticRegression\n",
    "from sklearn.tree import DecisionTreeClassifier\n",
    "from sklearn.ensemble import RandomForestClassifier\n",
    "from sklearn.metrics import classification_report, confusion_matrix\n",
    "import seaborn as sns\n",
    "import matplotlib.pyplot as plt\n",
    "import joblib"
   ]
  },
  {
   "cell_type": "markdown",
   "id": "ee763d51",
   "metadata": {},
   "source": [
    "## 📥 Carregamento do Dataset"
   ]
  },
  {
   "cell_type": "code",
   "execution_count": null,
   "id": "6898fe8c",
   "metadata": {},
   "outputs": [],
   "source": [
    "url = \"https://raw.githubusercontent.com/datasciencedojo/datasets/master/titanic.csv\"\n",
    "df = pd.read_csv(url)\n",
    "df.head()"
   ]
  },
  {
   "cell_type": "markdown",
   "id": "a1e34ad8",
   "metadata": {},
   "source": [
    "## 📊 Descrição do Conjunto de Dados\n",
    "\n",
    "- **Origem:** Kaggle (Titanic - Machine Learning from Disaster)\n",
    "- **Quantidade de Registros:** 891\n",
    "- **Colunas:** 12\n",
    "- **Dados Faltantes:** 'Age', 'Cabin', 'Embarked'\n",
    "\n",
    "A variável de resposta é `Survived` (0 = Não Sobreviveu, 1 = Sobreviveu)."
   ]
  },
  {
   "cell_type": "markdown",
   "id": "5d5b59ef",
   "metadata": {},
   "source": [
    "## 🧹 Pré-processamento dos Dados"
   ]
  },
  {
   "cell_type": "code",
   "execution_count": null,
   "id": "ea4397ec",
   "metadata": {},
   "outputs": [],
   "source": [
    "df = df.drop(columns=[\"Cabin\", \"Name\", \"Ticket\", \"PassengerId\"])\n",
    "df[\"Age\"].fillna(df[\"Age\"].median(), inplace=True)\n",
    "df[\"Embarked\"].fillna(df[\"Embarked\"].mode()[0], inplace=True)\n",
    "\n",
    "le_sex = LabelEncoder()\n",
    "df[\"Sex\"] = le_sex.fit_transform(df[\"Sex\"])\n",
    "\n",
    "df = pd.get_dummies(df, columns=[\"Embarked\"], drop_first=True)\n",
    "df.head()"
   ]
  },
  {
   "cell_type": "markdown",
   "id": "1254d749",
   "metadata": {},
   "source": [
    "## 🔍 Análise de Correlação"
   ]
  },
  {
   "cell_type": "code",
   "execution_count": null,
   "id": "c41be6a8",
   "metadata": {},
   "outputs": [],
   "source": [
    "plt.figure(figsize=(10,6))\n",
    "sns.heatmap(df.corr(), annot=True, cmap='coolwarm')\n",
    "plt.title(\"Correlação entre variáveis\")\n",
    "plt.tight_layout()\n",
    "plt.show()"
   ]
  },
  {
   "cell_type": "markdown",
   "id": "5cb6fb46",
   "metadata": {},
   "source": [
    "## ✂️ Separação em Variáveis Independentes e Dependente"
   ]
  },
  {
   "cell_type": "code",
   "execution_count": null,
   "id": "65f41674",
   "metadata": {},
   "outputs": [],
   "source": [
    "X = df.drop(columns=\"Survived\")\n",
    "y = df[\"Survived\"]\n",
    "\n",
    "X_train, X_test, y_train, y_test = train_test_split(X, y, test_size=0.2, random_state=42)"
   ]
  },
  {
   "cell_type": "markdown",
   "id": "4cc06d13",
   "metadata": {},
   "source": [
    "## 🤖 Treinamento dos Modelos"
   ]
  },
  {
   "cell_type": "code",
   "execution_count": null,
   "id": "fb309912",
   "metadata": {},
   "outputs": [],
   "source": [
    "modelos = {\n",
    "    \"LogisticRegression\": LogisticRegression(max_iter=1000),\n",
    "    \"DecisionTree\": DecisionTreeClassifier(),\n",
    "    \"RandomForest\": RandomForestClassifier()\n",
    "}\n",
    "\n",
    "resultados = {}\n",
    "\n",
    "for nome, modelo in modelos.items():\n",
    "    modelo.fit(X_train, y_train)\n",
    "    y_pred = modelo.predict(X_test)\n",
    "    print(f\"\\nModelo: {nome}\")\n",
    "    print(confusion_matrix(y_test, y_pred))\n",
    "    print(classification_report(y_test, y_pred))\n",
    "    resultados[nome] = modelo"
   ]
  },
  {
   "cell_type": "markdown",
   "id": "88636f3c",
   "metadata": {},
   "source": [
    "## ✅ Salvando o Melhor Modelo (Random Forest)"
   ]
  },
  {
   "cell_type": "code",
   "execution_count": null,
   "id": "9e7b54b6",
   "metadata": {},
   "outputs": [],
   "source": [
    "joblib.dump(resultados[\"RandomForest\"], \"modelo_titanic.pkl\")"
   ]
  }
 ],
 "metadata": {
  "language_info": {
   "name": "python"
  }
 },
 "nbformat": 4,
 "nbformat_minor": 5
}
